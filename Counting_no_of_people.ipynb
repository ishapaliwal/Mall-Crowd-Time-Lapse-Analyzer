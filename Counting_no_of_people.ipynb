{
 "cells": [
  {
   "cell_type": "code",
   "execution_count": 38,
   "id": "cfe4f19c",
   "metadata": {},
   "outputs": [],
   "source": [
    "import cv2\n",
    "import numpy as np\n",
    "import os\n",
    "\n",
    "# Loading YOLO\n",
    "net = cv2.dnn.readNet('yolov3.weights', 'yolov3.cfg')\n",
    "classes = []\n",
    "with open('coco.names', 'r') as f:\n",
    "    classes = [line.strip() for line in f.readlines()]\n",
    "layer_names = net.getLayerNames()\n",
    "output_layers = [layer_names[i - 1] for i in net.getUnconnectedOutLayers().flatten()]"
   ]
  },
  {
   "cell_type": "code",
   "execution_count": 39,
   "id": "e714121c",
   "metadata": {},
   "outputs": [],
   "source": [
    "# Loading the video file\n",
    "video_path = 'american_mall_video.mp4'\n",
    "video = cv2.VideoCapture(video_path)\n",
    "if not video.isOpened():\n",
    "    raise ValueError(\"Error opening video stream or file\")"
   ]
  },
  {
   "cell_type": "code",
   "execution_count": 40,
   "id": "9690a7b5",
   "metadata": {},
   "outputs": [],
   "source": [
    "# Directory to store the frames\n",
    "frames_dir = 'frames'\n",
    "os.makedirs(frames_dir, exist_ok=True)"
   ]
  },
  {
   "cell_type": "code",
   "execution_count": 41,
   "id": "7c24f41d",
   "metadata": {},
   "outputs": [],
   "source": [
    "# Getting frame rate and adjusting for frequent frame extraction\n",
    "fps = video.get(cv2.CAP_PROP_FPS)\n",
    "interval = max(1, int(fps / 4))  # Extracting four frames per second\n",
    "\n",
    "count = 0\n",
    "frame_count = 0\n",
    "while True:\n",
    "    ret, frame = video.read()\n",
    "    if not ret:\n",
    "        break\n",
    "    if count % interval == 0:\n",
    "        frame_filename = f\"{frames_dir}/frame_{frame_count}.jpg\"\n",
    "        cv2.imwrite(frame_filename, frame)\n",
    "        frame_count += 1\n",
    "    count += 1\n",
    "\n",
    "video.release()"
   ]
  },
  {
   "cell_type": "code",
   "execution_count": 42,
   "id": "f1ff4e99",
   "metadata": {},
   "outputs": [],
   "source": [
    "# Function to detect people\n",
    "def detect_people(frame_path):\n",
    "    img = cv2.imread(frame_path)\n",
    "    if img is None:\n",
    "        print(f\"Failed to load image at {frame_path}\")\n",
    "        return 0\n",
    "    \n",
    "    # Increasing the size for better detection accuracy\n",
    "    img = cv2.resize(img, None, fx=0.8, fy=0.8)\n",
    "    height, width, channels = img.shape\n",
    "\n",
    "    blob = cv2.dnn.blobFromImage(img, 0.00392, (416, 416), (0, 0, 0), True, crop=False)\n",
    "    net.setInput(blob)\n",
    "    outs = net.forward(output_layers)\n",
    "\n",
    "    class_ids = []\n",
    "    confidences = []\n",
    "    boxes = []\n",
    "    for out in outs:\n",
    "        for detection in out:\n",
    "            scores = detection[5:]\n",
    "            class_id = np.argmax(scores)\n",
    "            confidence = scores[class_id]\n",
    "            if confidence > 0.3:  # Lowering confidence threshold for potentially more detections\n",
    "                center_x = int(detection[0] * width)\n",
    "                center_y = int(detection[1] * height)\n",
    "                w = int(detection[2] * width)\n",
    "                h = int(detection[3] * height)\n",
    "\n",
    "                x = int(center_x - w / 2)\n",
    "                y = int(center_y - h / 2)\n",
    "\n",
    "                boxes.append([x, y, w, h])\n",
    "                confidences.append(float(confidence))\n",
    "                class_ids.append(class_id)\n",
    "\n",
    "    indexes = cv2.dnn.NMSBoxes(boxes, confidences, 0.3, 0.2)  # Adjusting NMS parameters for better overlap handling\n",
    "    people_count = sum([1 for i in range(len(boxes)) if class_ids[i] == 0 and i in indexes])\n",
    "\n",
    "    return people_count"
   ]
  },
  {
   "cell_type": "code",
   "execution_count": 43,
   "id": "01609bda",
   "metadata": {},
   "outputs": [
    {
     "name": "stdout",
     "output_type": "stream",
     "text": [
      "People counts per frame: [20, 23, 19, 15, 12, 17, 21, 17, 23, 21, 20, 19, 30, 22, 25, 21, 19, 14, 18, 17, 17, 16, 22, 14, 14]\n"
     ]
    }
   ],
   "source": [
    "# Analyzing the extracted frames\n",
    "people_counts = []\n",
    "for i in range(frame_count):\n",
    "    frame_path = f\"{frames_dir}/frame_{i}.jpg\"\n",
    "    count = detect_people(frame_path)\n",
    "    people_counts.append(count)\n",
    "\n",
    "print(\"People counts per frame:\", people_counts)"
   ]
  }
 ],
 "metadata": {
  "kernelspec": {
   "display_name": "Python 3 (ipykernel)",
   "language": "python",
   "name": "python3"
  },
  "language_info": {
   "codemirror_mode": {
    "name": "ipython",
    "version": 3
   },
   "file_extension": ".py",
   "mimetype": "text/x-python",
   "name": "python",
   "nbconvert_exporter": "python",
   "pygments_lexer": "ipython3",
   "version": "3.11.5"
  }
 },
 "nbformat": 4,
 "nbformat_minor": 5
}
